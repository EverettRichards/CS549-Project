{
 "cells": [
  {
   "cell_type": "code",
   "execution_count": 63,
   "id": "46ee666f",
   "metadata": {},
   "outputs": [
    {
     "name": "stdout",
     "output_type": "stream",
     "text": [
      "Requirement already satisfied: numpy in /home/everett/miniconda3/envs/CS549/lib/python3.10/site-packages (2.2.6)\n",
      "Requirement already satisfied: pandas in /home/everett/miniconda3/envs/CS549/lib/python3.10/site-packages (2.3.2)\n",
      "Requirement already satisfied: numpy>=1.22.4 in /home/everett/miniconda3/envs/CS549/lib/python3.10/site-packages (from pandas) (2.2.6)\n",
      "Requirement already satisfied: python-dateutil>=2.8.2 in /home/everett/miniconda3/envs/CS549/lib/python3.10/site-packages (from pandas) (2.9.0.post0)\n",
      "Requirement already satisfied: pytz>=2020.1 in /home/everett/miniconda3/envs/CS549/lib/python3.10/site-packages (from pandas) (2025.2)\n",
      "Requirement already satisfied: tzdata>=2022.7 in /home/everett/miniconda3/envs/CS549/lib/python3.10/site-packages (from pandas) (2025.2)\n",
      "Requirement already satisfied: six>=1.5 in /home/everett/miniconda3/envs/CS549/lib/python3.10/site-packages (from python-dateutil>=2.8.2->pandas) (1.17.0)\n",
      "Requirement already satisfied: scikit-learn in /home/everett/miniconda3/envs/CS549/lib/python3.10/site-packages (1.7.1)\n",
      "Requirement already satisfied: numpy>=1.22.0 in /home/everett/miniconda3/envs/CS549/lib/python3.10/site-packages (from scikit-learn) (2.2.6)\n",
      "Requirement already satisfied: scipy>=1.8.0 in /home/everett/miniconda3/envs/CS549/lib/python3.10/site-packages (from scikit-learn) (1.15.3)\n",
      "Requirement already satisfied: joblib>=1.2.0 in /home/everett/miniconda3/envs/CS549/lib/python3.10/site-packages (from scikit-learn) (1.5.2)\n",
      "Requirement already satisfied: threadpoolctl>=3.1.0 in /home/everett/miniconda3/envs/CS549/lib/python3.10/site-packages (from scikit-learn) (3.6.0)\n"
     ]
    }
   ],
   "source": [
    "!pip install numpy\n",
    "!pip install pandas\n",
    "!pip install scikit-learn"
   ]
  },
  {
   "cell_type": "code",
   "execution_count": 64,
   "id": "d39b3342",
   "metadata": {},
   "outputs": [],
   "source": [
    "import numpy as np\n",
    "import pandas as pd\n",
    "from sklearn.model_selection import train_test_split\n",
    "from sklearn.linear_model import LogisticRegression\n",
    "from sklearn.metrics import classification_report, accuracy_score"
   ]
  },
  {
   "cell_type": "code",
   "execution_count": 68,
   "id": "dc2a0f1e",
   "metadata": {
    "vscode": {
     "languageId": "ruby"
    }
   },
   "outputs": [],
   "source": [
    "def process_dataset(df):\n",
    "    # Convert \"type\" to binary digits\n",
    "    df['type'] = df['type'].apply(lambda x: 0 if x == 'benign' else 1)\n",
    "    \n",
    "    # Convert url to lowercase\n",
    "    df['url'] = df['url'].str.lower()\n",
    "\n",
    "    # Remove port from consideration\n",
    "    df['url'] = df['url'].str.split(\":\").str[0]\n",
    "\n",
    "    # Determine if the url is an HTTPS address (secure)\n",
    "    df['is_https'] = df['url'].apply(lambda x: 1 if 'https://' in x else 0)\n",
    "\n",
    "    # Purge http(s):// -- it's just noise.\n",
    "    df['url'] = df['url'].str.replace('http://', '')\n",
    "    df['url'] = df['url'].str.replace('https://', '')\n",
    "\n",
    "    # Record the length of each URL\n",
    "    df['url_length'] = df['url'].apply(len)\n",
    "\n",
    "    # Find the full domain (including subdomains)\n",
    "    df['full_domain'] = df['url'].str.split(\"/\").str[0]\n",
    "\n",
    "    # Count the number of subdomains\n",
    "    df['subdomain_count'] = df['full_domain'].apply(lambda x: len(x.split('.')) - 1)\n",
    "    \n",
    "    # Count the number of special characters found in the address\n",
    "    df['count_special_chars'] = df['url'].apply(lambda u: sum(u.count(c) for c in '!@#$%^&*()[]{};:,./<>?|`~-=+'))\n",
    "    \n",
    "    # Record the ratio between numerical digits and the total length of the URL\n",
    "    df['digit_to_length_ratio'] = df['url'].apply(lambda u: sum(c.isdigit() for c in u) / len(u) if len(u) > 0 else 0)\n",
    "    \n",
    "    # Remove URL and other non-numeric artifacts\n",
    "    df.drop(['url', 'full_domain'], axis=1, inplace=True)"
   ]
  },
  {
   "cell_type": "code",
   "execution_count": 69,
   "id": "82565165",
   "metadata": {},
   "outputs": [],
   "source": [
    "DF_full = pd.read_csv(\"malicious_phish.csv\")\n",
    "process_dataset(DF_full)\n",
    "\n",
    "X_full = DF_full.drop('type', axis=1)\n",
    "y_full = DF_full['type']\n",
    "X_train, X_test, y_train, y_test = train_test_split(X_full, y_full, test_size=0.2, random_state=42)\n"
   ]
  },
  {
   "cell_type": "code",
   "execution_count": 70,
   "id": "e50152d4",
   "metadata": {},
   "outputs": [
    {
     "name": "stdout",
     "output_type": "stream",
     "text": [
      "Accuracy: 0.8195394620658942\n",
      "              precision    recall  f1-score   support\n",
      "\n",
      "           0       0.88      0.84      0.86     85778\n",
      "           1       0.72      0.78      0.75     44461\n",
      "\n",
      "    accuracy                           0.82    130239\n",
      "   macro avg       0.80      0.81      0.80    130239\n",
      "weighted avg       0.82      0.82      0.82    130239\n",
      "\n"
     ]
    }
   ],
   "source": [
    "# Test my data prep strategy using pre-built libraries...\n",
    "\n",
    "# Train logistic regression model\n",
    "logreg = LogisticRegression(max_iter=1000)\n",
    "logreg.fit(X_train, y_train)\n",
    "\n",
    "# Predict and evaluate\n",
    "y_pred = logreg.predict(X_test)\n",
    "print(\"Accuracy:\", accuracy_score(y_test, y_pred))\n",
    "print(classification_report(y_test, y_pred))"
   ]
  },
  {
   "cell_type": "code",
   "execution_count": null,
   "id": "3d8e5604",
   "metadata": {},
   "outputs": [],
   "source": []
  }
 ],
 "metadata": {
  "kernelspec": {
   "display_name": "CS549",
   "language": "python",
   "name": "python3"
  },
  "language_info": {
   "codemirror_mode": {
    "name": "ipython",
    "version": 3
   },
   "file_extension": ".py",
   "mimetype": "text/x-python",
   "name": "python",
   "nbconvert_exporter": "python",
   "pygments_lexer": "ipython3",
   "version": "3.10.18"
  }
 },
 "nbformat": 4,
 "nbformat_minor": 5
}
